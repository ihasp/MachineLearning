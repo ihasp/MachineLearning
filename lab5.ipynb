{
 "cells": [
  {
   "cell_type": "code",
   "execution_count": null,
   "id": "0c55c847",
   "metadata": {},
   "outputs": [
    {
     "name": "stderr",
     "output_type": "stream",
     "text": [
      "Device set to use cpu\n",
      "c:\\Python313\\Lib\\site-packages\\transformers\\pipelines\\question_answering.py:390: FutureWarning: Passing a list of SQuAD examples to the pipeline is deprecated and will be removed in v5. Inputs should be passed using the `question` and `context` keyword arguments instead.\n",
      "  warnings.warn(\n"
     ]
    },
    {
     "name": "stdout",
     "output_type": "stream",
     "text": [
      "Pytanie: In which year audi was founded?\n",
      "Odpowiedź: 1899\n"
     ]
    }
   ],
   "source": [
    "import wikipedia\n",
    "from transformers import pipeline\n",
    "\n",
    "# Ustaw język na polski lub angielski\n",
    "wikipedia.set_lang(\"pl\")  # lub \"en\"\n",
    "\n",
    "# 1. Pobieranie artykułu z Wikipedii\n",
    "def get_wikipedia_summary(topic, max_chars=2000):\n",
    "    try:\n",
    "        summary = wikipedia.page(topic).content\n",
    "        return summary[:max_chars]\n",
    "    except wikipedia.exceptions.DisambiguationError as e:\n",
    "        print(\"Zbyt ogólne zapytanie. Sugerowane tematy:\", e.options)\n",
    "    except wikipedia.exceptions.PageError:\n",
    "        print(\"Nie znaleziono artykułu.\")\n",
    "    return \"\"\n",
    "\n",
    "# 2. QA pipeline\n",
    "qa_pipeline = pipeline(\"question-answering\", model=\"deepset/roberta-base-squad2\")\n",
    "\n",
    "# 3. Główna funkcja\n",
    "def answer_question(question, topic):\n",
    "    context = get_wikipedia_summary(topic)\n",
    "    if not context:\n",
    "        return \"Brak danych do odpowiedzi.\"\n",
    "    \n",
    "    result = qa_pipeline({\n",
    "        'question': question,\n",
    "        'context': context\n",
    "    })\n",
    "    return result['answer']\n",
    "\n",
    "# 4. Przykład użycia\n",
    "if __name__ == \"__main__\":\n",
    "    temat = \"Audi\"\n",
    "    pytanie = \"In which year audi was founded?\"\n",
    "    #pytanie to w którym roku audi zostało stworzone, odpowiedzią powinno być 1899\n",
    "    odpowiedz = answer_question(pytanie, temat)\n",
    "    print(f\"Pytanie: {pytanie}\\nOdpowiedź: {odpowiedz}\")\n"
   ]
  }
 ],
 "metadata": {
  "kernelspec": {
   "display_name": "Python 3",
   "language": "python",
   "name": "python3"
  },
  "language_info": {
   "codemirror_mode": {
    "name": "ipython",
    "version": 3
   },
   "file_extension": ".py",
   "mimetype": "text/x-python",
   "name": "python",
   "nbconvert_exporter": "python",
   "pygments_lexer": "ipython3",
   "version": "3.13.3"
  }
 },
 "nbformat": 4,
 "nbformat_minor": 5
}
