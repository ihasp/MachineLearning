{
 "cells": [
  {
   "cell_type": "code",
   "execution_count": 1,
   "metadata": {},
   "outputs": [
    {
     "name": "stderr",
     "output_type": "stream",
     "text": [
      "c:\\Users\\Patryk\\AppData\\Local\\Programs\\Python\\Python313\\Lib\\site-packages\\tqdm\\auto.py:21: TqdmWarning: IProgress not found. Please update jupyter and ipywidgets. See https://ipywidgets.readthedocs.io/en/stable/user_install.html\n",
      "  from .autonotebook import tqdm as notebook_tqdm\n"
     ]
    },
    {
     "name": "stdout",
     "output_type": "stream",
     "text": [
      "Path to dataset files: C:\\Users\\Patryk\\.cache\\kagglehub\\datasets\\veerukhannan\\diabetes\\versions\\1\n"
     ]
    }
   ],
   "source": [
    "import kagglehub\n",
    "path = kagglehub.dataset_download(\"veerukhannan/diabetes\")\n",
    "print(\"Path to dataset files:\", path)"
   ]
  },
  {
   "cell_type": "code",
   "execution_count": 2,
   "metadata": {},
   "outputs": [],
   "source": [
    "from mpl_toolkits.mplot3d import Axes3D\n",
    "from sklearn.preprocessing import StandardScaler\n",
    "import matplotlib.pyplot as plt # plotting\n",
    "import numpy as np # linear algebra\n",
    "import os # accessing directory structure\n",
    "import pandas as pd # data processing"
   ]
  },
  {
   "cell_type": "code",
   "execution_count": 3,
   "metadata": {},
   "outputs": [
    {
     "name": "stdout",
     "output_type": "stream",
     "text": [
      "C:\\Users\\Patryk\\.cache\\kagglehub\\datasets\\veerukhannan\\diabetes\\versions\\1\\data-01\n",
      "C:\\Users\\Patryk\\.cache\\kagglehub\\datasets\\veerukhannan\\diabetes\\versions\\1\\data-02\n",
      "C:\\Users\\Patryk\\.cache\\kagglehub\\datasets\\veerukhannan\\diabetes\\versions\\1\\data-03\n",
      "C:\\Users\\Patryk\\.cache\\kagglehub\\datasets\\veerukhannan\\diabetes\\versions\\1\\data-04\n",
      "C:\\Users\\Patryk\\.cache\\kagglehub\\datasets\\veerukhannan\\diabetes\\versions\\1\\data-05\n",
      "C:\\Users\\Patryk\\.cache\\kagglehub\\datasets\\veerukhannan\\diabetes\\versions\\1\\data-06\n",
      "C:\\Users\\Patryk\\.cache\\kagglehub\\datasets\\veerukhannan\\diabetes\\versions\\1\\data-07\n",
      "C:\\Users\\Patryk\\.cache\\kagglehub\\datasets\\veerukhannan\\diabetes\\versions\\1\\data-08\n",
      "C:\\Users\\Patryk\\.cache\\kagglehub\\datasets\\veerukhannan\\diabetes\\versions\\1\\data-09\n",
      "C:\\Users\\Patryk\\.cache\\kagglehub\\datasets\\veerukhannan\\diabetes\\versions\\1\\data-10\n",
      "C:\\Users\\Patryk\\.cache\\kagglehub\\datasets\\veerukhannan\\diabetes\\versions\\1\\data-11\n",
      "C:\\Users\\Patryk\\.cache\\kagglehub\\datasets\\veerukhannan\\diabetes\\versions\\1\\data-12\n",
      "C:\\Users\\Patryk\\.cache\\kagglehub\\datasets\\veerukhannan\\diabetes\\versions\\1\\data-13\n",
      "C:\\Users\\Patryk\\.cache\\kagglehub\\datasets\\veerukhannan\\diabetes\\versions\\1\\data-14\n",
      "C:\\Users\\Patryk\\.cache\\kagglehub\\datasets\\veerukhannan\\diabetes\\versions\\1\\data-15\n",
      "C:\\Users\\Patryk\\.cache\\kagglehub\\datasets\\veerukhannan\\diabetes\\versions\\1\\data-16\n",
      "C:\\Users\\Patryk\\.cache\\kagglehub\\datasets\\veerukhannan\\diabetes\\versions\\1\\data-17\n",
      "C:\\Users\\Patryk\\.cache\\kagglehub\\datasets\\veerukhannan\\diabetes\\versions\\1\\data-18\n",
      "C:\\Users\\Patryk\\.cache\\kagglehub\\datasets\\veerukhannan\\diabetes\\versions\\1\\data-19\n",
      "C:\\Users\\Patryk\\.cache\\kagglehub\\datasets\\veerukhannan\\diabetes\\versions\\1\\data-20\n",
      "C:\\Users\\Patryk\\.cache\\kagglehub\\datasets\\veerukhannan\\diabetes\\versions\\1\\data-21\n",
      "C:\\Users\\Patryk\\.cache\\kagglehub\\datasets\\veerukhannan\\diabetes\\versions\\1\\data-22\n",
      "C:\\Users\\Patryk\\.cache\\kagglehub\\datasets\\veerukhannan\\diabetes\\versions\\1\\data-23\n",
      "C:\\Users\\Patryk\\.cache\\kagglehub\\datasets\\veerukhannan\\diabetes\\versions\\1\\data-24\n",
      "C:\\Users\\Patryk\\.cache\\kagglehub\\datasets\\veerukhannan\\diabetes\\versions\\1\\data-25\n",
      "C:\\Users\\Patryk\\.cache\\kagglehub\\datasets\\veerukhannan\\diabetes\\versions\\1\\data-26\n",
      "C:\\Users\\Patryk\\.cache\\kagglehub\\datasets\\veerukhannan\\diabetes\\versions\\1\\data-27\n",
      "C:\\Users\\Patryk\\.cache\\kagglehub\\datasets\\veerukhannan\\diabetes\\versions\\1\\data-28\n",
      "C:\\Users\\Patryk\\.cache\\kagglehub\\datasets\\veerukhannan\\diabetes\\versions\\1\\data-29\n",
      "C:\\Users\\Patryk\\.cache\\kagglehub\\datasets\\veerukhannan\\diabetes\\versions\\1\\data-30\n",
      "C:\\Users\\Patryk\\.cache\\kagglehub\\datasets\\veerukhannan\\diabetes\\versions\\1\\data-31\n",
      "C:\\Users\\Patryk\\.cache\\kagglehub\\datasets\\veerukhannan\\diabetes\\versions\\1\\data-32\n",
      "C:\\Users\\Patryk\\.cache\\kagglehub\\datasets\\veerukhannan\\diabetes\\versions\\1\\data-33\n",
      "C:\\Users\\Patryk\\.cache\\kagglehub\\datasets\\veerukhannan\\diabetes\\versions\\1\\data-34\n",
      "C:\\Users\\Patryk\\.cache\\kagglehub\\datasets\\veerukhannan\\diabetes\\versions\\1\\data-35\n",
      "C:\\Users\\Patryk\\.cache\\kagglehub\\datasets\\veerukhannan\\diabetes\\versions\\1\\data-36\n",
      "C:\\Users\\Patryk\\.cache\\kagglehub\\datasets\\veerukhannan\\diabetes\\versions\\1\\data-37\n",
      "C:\\Users\\Patryk\\.cache\\kagglehub\\datasets\\veerukhannan\\diabetes\\versions\\1\\data-38\n",
      "C:\\Users\\Patryk\\.cache\\kagglehub\\datasets\\veerukhannan\\diabetes\\versions\\1\\data-39\n",
      "C:\\Users\\Patryk\\.cache\\kagglehub\\datasets\\veerukhannan\\diabetes\\versions\\1\\data-40\n",
      "C:\\Users\\Patryk\\.cache\\kagglehub\\datasets\\veerukhannan\\diabetes\\versions\\1\\data-41\n",
      "C:\\Users\\Patryk\\.cache\\kagglehub\\datasets\\veerukhannan\\diabetes\\versions\\1\\data-42\n",
      "C:\\Users\\Patryk\\.cache\\kagglehub\\datasets\\veerukhannan\\diabetes\\versions\\1\\data-43\n",
      "C:\\Users\\Patryk\\.cache\\kagglehub\\datasets\\veerukhannan\\diabetes\\versions\\1\\data-44\n",
      "C:\\Users\\Patryk\\.cache\\kagglehub\\datasets\\veerukhannan\\diabetes\\versions\\1\\data-45\n",
      "C:\\Users\\Patryk\\.cache\\kagglehub\\datasets\\veerukhannan\\diabetes\\versions\\1\\data-46\n",
      "C:\\Users\\Patryk\\.cache\\kagglehub\\datasets\\veerukhannan\\diabetes\\versions\\1\\data-47\n",
      "C:\\Users\\Patryk\\.cache\\kagglehub\\datasets\\veerukhannan\\diabetes\\versions\\1\\data-48\n",
      "C:\\Users\\Patryk\\.cache\\kagglehub\\datasets\\veerukhannan\\diabetes\\versions\\1\\data-49\n",
      "C:\\Users\\Patryk\\.cache\\kagglehub\\datasets\\veerukhannan\\diabetes\\versions\\1\\data-50\n",
      "C:\\Users\\Patryk\\.cache\\kagglehub\\datasets\\veerukhannan\\diabetes\\versions\\1\\data-51\n",
      "C:\\Users\\Patryk\\.cache\\kagglehub\\datasets\\veerukhannan\\diabetes\\versions\\1\\data-52\n",
      "C:\\Users\\Patryk\\.cache\\kagglehub\\datasets\\veerukhannan\\diabetes\\versions\\1\\data-53\n",
      "C:\\Users\\Patryk\\.cache\\kagglehub\\datasets\\veerukhannan\\diabetes\\versions\\1\\data-54\n",
      "C:\\Users\\Patryk\\.cache\\kagglehub\\datasets\\veerukhannan\\diabetes\\versions\\1\\data-55\n",
      "C:\\Users\\Patryk\\.cache\\kagglehub\\datasets\\veerukhannan\\diabetes\\versions\\1\\data-56\n",
      "C:\\Users\\Patryk\\.cache\\kagglehub\\datasets\\veerukhannan\\diabetes\\versions\\1\\data-57\n",
      "C:\\Users\\Patryk\\.cache\\kagglehub\\datasets\\veerukhannan\\diabetes\\versions\\1\\data-58\n",
      "C:\\Users\\Patryk\\.cache\\kagglehub\\datasets\\veerukhannan\\diabetes\\versions\\1\\data-59\n",
      "C:\\Users\\Patryk\\.cache\\kagglehub\\datasets\\veerukhannan\\diabetes\\versions\\1\\data-60\n",
      "C:\\Users\\Patryk\\.cache\\kagglehub\\datasets\\veerukhannan\\diabetes\\versions\\1\\data-61\n",
      "C:\\Users\\Patryk\\.cache\\kagglehub\\datasets\\veerukhannan\\diabetes\\versions\\1\\data-62\n",
      "C:\\Users\\Patryk\\.cache\\kagglehub\\datasets\\veerukhannan\\diabetes\\versions\\1\\data-63\n",
      "C:\\Users\\Patryk\\.cache\\kagglehub\\datasets\\veerukhannan\\diabetes\\versions\\1\\data-64\n",
      "C:\\Users\\Patryk\\.cache\\kagglehub\\datasets\\veerukhannan\\diabetes\\versions\\1\\data-65\n",
      "C:\\Users\\Patryk\\.cache\\kagglehub\\datasets\\veerukhannan\\diabetes\\versions\\1\\data-66\n",
      "C:\\Users\\Patryk\\.cache\\kagglehub\\datasets\\veerukhannan\\diabetes\\versions\\1\\data-67\n",
      "C:\\Users\\Patryk\\.cache\\kagglehub\\datasets\\veerukhannan\\diabetes\\versions\\1\\data-68\n",
      "C:\\Users\\Patryk\\.cache\\kagglehub\\datasets\\veerukhannan\\diabetes\\versions\\1\\data-69\n",
      "C:\\Users\\Patryk\\.cache\\kagglehub\\datasets\\veerukhannan\\diabetes\\versions\\1\\data-70\n"
     ]
    }
   ],
   "source": [
    "for dirname, _, filenames in os.walk(path):\n",
    "    for filename in filenames:\n",
    "        print(os.path.join(dirname, filename))"
   ]
  },
  {
   "cell_type": "code",
   "execution_count": 4,
   "metadata": {},
   "outputs": [
    {
     "name": "stdout",
     "output_type": "stream",
     "text": [
      "File exists: True\n",
      "Readable: True\n",
      "Writable: True\n",
      "File path: C:\\Users\\Patryk\\.cache\\kagglehub\\datasets\\veerukhannan\\diabetes\\versions\\1\n"
     ]
    }
   ],
   "source": [
    "print(f\"File exists: {os.path.exists(path)}\")\n",
    "print(f\"Readable: {os.access(path, os.R_OK)}\")\n",
    "print(f\"Writable: {os.access(path, os.W_OK)}\")\n",
    "print(f\"File path: {path}\") "
   ]
  },
  {
   "cell_type": "code",
   "execution_count": 6,
   "metadata": {},
   "outputs": [
    {
     "name": "stdout",
     "output_type": "stream",
     "text": [
      "Rows with invalid date formats:\n",
      "Empty DataFrame\n",
      "Columns: [Date, Time, Code, Value]\n",
      "Index: []\n"
     ]
    }
   ],
   "source": [
    "data_dir = path  # Ensure 'path' is a directory\n",
    "files = sorted([f for f in os.listdir(data_dir) if f.startswith('data-')])  # Sort to maintain order\n",
    "dfs = []\n",
    "for file in files:\n",
    "    file_path = os.path.join(data_dir, file)\n",
    "    df = pd.read_csv(file_path, sep='\\t', header=None, names=['Date', 'Time', 'Code', 'Value'])\n",
    "    dfs.append(df)\n",
    "\n",
    "df_invalid_dates = df[~df['Date'].str.match(r'^\\d{2}-\\d{2}-\\d{4}$', na=False)]\n",
    "print(\"Rows with invalid date formats:\")\n",
    "print(df_invalid_dates)"
   ]
  },
  {
   "cell_type": "code",
   "execution_count": 7,
   "metadata": {},
   "outputs": [
    {
     "name": "stdout",
     "output_type": "stream",
     "text": [
      "Loaded DataFrame:\n",
      "         Date   Time Code Value            Datetime\n",
      "0  04-21-1991   9:09   58   100 1991-04-21 09:09:00\n",
      "1  04-21-1991   9:09   33     9 1991-04-21 09:09:00\n",
      "2  04-21-1991   9:09   34    13 1991-04-21 09:09:00\n",
      "3  04-21-1991  17:08   62   119 1991-04-21 17:08:00\n",
      "4  04-21-1991  17:08   33     7 1991-04-21 17:08:00\n"
     ]
    }
   ],
   "source": [
    "df = pd.concat(dfs, ignore_index=True)\n",
    "df['Datetime'] = pd.to_datetime(df['Date'] + ' ' + df['Time'], format='%m-%d-%Y %H:%M', errors='coerce')\n",
    "df['Code'] = df['Code'].astype('category')\n",
    "print(\"Loaded DataFrame:\")\n",
    "print(df.head())"
   ]
  },
  {
   "cell_type": "code",
   "execution_count": 8,
   "metadata": {},
   "outputs": [
    {
     "name": "stdout",
     "output_type": "stream",
     "text": [
      "         Date   Time Code Value            Datetime\n",
      "0  04-21-1991   9:09   58   100 1991-04-21 09:09:00\n",
      "1  04-21-1991   9:09   33     9 1991-04-21 09:09:00\n",
      "2  04-21-1991   9:09   34    13 1991-04-21 09:09:00\n",
      "3  04-21-1991  17:08   62   119 1991-04-21 17:08:00\n",
      "4  04-21-1991  17:08   33     7 1991-04-21 17:08:00\n"
     ]
    }
   ],
   "source": [
    "files = [f for f in os.listdir(path) if f.startswith('data-')]  # List files starting with 'data-'\n",
    "dfs = []\n",
    "\n",
    "for file in files:\n",
    "    file_path = os.path.join(path, file)  # Full file path\n",
    "    df = pd.read_csv(file_path, sep='\\t', header=None, names=['Date', 'Time', 'Code', 'Value'])\n",
    "    dfs.append(df)\n",
    "\n",
    "df = pd.concat(dfs, ignore_index=True)\n",
    "df['Datetime'] = pd.to_datetime(df['Date'] + ' ' + df['Time'], format='%m-%d-%Y %H:%M', errors='coerce')\n",
    "df['Code'] = df['Code'].astype('category')\n",
    "print(df.head())\n"
   ]
  },
  {
   "cell_type": "code",
   "execution_count": 9,
   "metadata": {},
   "outputs": [
    {
     "data": {
      "image/png": "[encoded data removed]",
      "text/plain": [
       "<Figure size 960x640 with 1 Axes>"
      ]
     },
     "metadata": {},
     "output_type": "display_data"
    }
   ],
   "source": [
    "def plotPerColumnDistribution(df, nGraphShown, nGraphPerRow):\n",
    "    nunique = df.nunique()\n",
    "    df = df[[col for col in df if nunique[col] > 1 and nunique[col] < 50]] # For displaying purposes, pick columns that have between 1 and 50 unique values\n",
    "    nRow, nCol = df.shape\n",
    "    columnNames = list(df)\n",
    "    nGraphRow = int((nCol + nGraphPerRow - 1) / nGraphPerRow)\n",
    "    plt.figure(num=None, figsize=(6 * nGraphPerRow, 8 * nGraphRow), dpi=80, facecolor='w', edgecolor='k')\n",
    "    for i in range(min(nCol, nGraphShown)):\n",
    "        plt.subplot(nGraphRow, nGraphPerRow, i + 1)\n",
    "        columnDf = df.iloc[:, i]\n",
    "        if not np.issubdtype(type(columnDf.iloc[0]), np.number):\n",
    "            valueCounts = columnDf.value_counts()\n",
    "            valueCounts.plot.bar()\n",
    "        else:\n",
    "            columnDf.hist()\n",
    "        plt.ylabel('counts')\n",
    "        plt.xticks(rotation=90)\n",
    "        plt.title(f'{columnNames[i]} (column {i})')\n",
    "    plt.tight_layout(pad=1.0, w_pad=1.0, h_pad=1.0)\n",
    "    plt.show()\n",
    "\n",
    "plotPerColumnDistribution(df, nGraphShown=3, nGraphPerRow=2);"
   ]
  },
  {
   "cell_type": "code",
   "execution_count": 10,
   "metadata": {},
   "outputs": [],
   "source": [
    "def plotCorrelationMatrix(df, graphWidth):\n",
    "    filename = df.dataframeName\n",
    "    df = df.dropna('columns') # drop columns with NaN\n",
    "    df = df[[col for col in df if df[col].nunique() > 1]] # keep columns where there are more than 1 unique values\n",
    "    if df.shape[1] < 2:\n",
    "        print(f'No correlation plots shown: The number of non-NaN or constant columns ({df.shape[1]}) is less than 2')\n",
    "        return\n",
    "    corr = df.corr()\n",
    "    plt.figure(num=None, figsize=(graphWidth, graphWidth), dpi=80, facecolor='w', edgecolor='k')\n",
    "    corrMat = plt.matshow(corr, fignum = 1)\n",
    "    plt.xticks(range(len(corr.columns)), corr.columns, rotation=90)\n",
    "    plt.yticks(range(len(corr.columns)), corr.columns)\n",
    "    plt.gca().xaxis.tick_bottom()\n",
    "    plt.colorbar(corrMat)\n",
    "    plt.title(f'Correlation Matrix for {filename}', fontsize=15)\n",
    "    plt.show()\n",
    "    \n",
    "    plotCorrelationMatrix(df, 4)"
   ]
  },
  {
   "cell_type": "code",
   "execution_count": 11,
   "metadata": {},
   "outputs": [],
   "source": [
    "def plotScatterMatrix(df, plotSize, textSize):\n",
    "    df = df.select_dtypes(include =[np.number]) # keep only numerical columns\n",
    "    # Remove rows and columns that would lead to df being singular\n",
    "    df = df.dropna('columns')\n",
    "    df = df[[col for col in df if df[col].nunique() > 1]] # keep columns where there are more than 1 unique values\n",
    "    columnNames = list(df)\n",
    "    if len(columnNames) > 10: # reduce the number of columns for matrix inversion of kernel density plots\n",
    "        columnNames = columnNames[:10]\n",
    "    df = df[columnNames]\n",
    "    ax = pd.plotting.scatter_matrix(df, alpha=0.75, figsize=[plotSize, plotSize], diagonal='kde')\n",
    "    corrs = df.corr().values\n",
    "    for i, j in zip(*plt.np.triu_indices_from(ax, k = 1)):\n",
    "        ax[i, j].annotate('Corr. coef = %.3f' % corrs[i, j], (0.8, 0.2), xycoords='axes fraction', ha='center', va='center', size=textSize)\n",
    "    plt.suptitle('Scatter and Density Plot')\n",
    "    plt.show()"
   ]
  }
 ],
 "metadata": {
  "kernelspec": {
   "display_name": "Python 3",
   "language": "python",
   "name": "python3"
  },
  "language_info": {
   "codemirror_mode": {
    "name": "ipython",
    "version": 3
   },
   "file_extension": ".py",
   "mimetype": "text/x-python",
   "name": "python",
   "nbconvert_exporter": "python",
   "pygments_lexer": "ipython3",
   "version": "3.13.0"
  }
 },
 "nbformat": 4,
 "nbformat_minor": 2
}
